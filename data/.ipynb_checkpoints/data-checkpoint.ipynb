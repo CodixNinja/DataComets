{
 "cells": [
  {
   "cell_type": "code",
   "execution_count": 1,
   "metadata": {},
   "outputs": [],
   "source": [
    "import pyulog\n",
    "from pyulog.ulog2csv import *"
   ]
  },
  {
   "cell_type": "code",
   "execution_count": 2,
   "metadata": {},
   "outputs": [],
   "source": [
    "ulog = ULog('6d5dcbb8-7224-4d49-8df4-8508226736b0.ulg')\n",
    "data = ulog.data_list"
   ]
  },
  {
   "cell_type": "code",
   "execution_count": 3,
   "metadata": {},
   "outputs": [],
   "source": [
    "import pandas as pd"
   ]
  },
  {
   "cell_type": "code",
   "execution_count": 4,
   "metadata": {},
   "outputs": [
    {
     "name": "stdout",
     "output_type": "stream",
     "text": [
      "ekf2_timestamps\n",
      "vehicle_status_flags\n",
      "vehicle_status\n",
      "vehicle_rates_setpoint\n",
      "vehicle_magnetometer\n",
      "vehicle_local_position_setpoint\n",
      "vehicle_local_position\n",
      "vehicle_land_detected\n",
      "vehicle_gps_position\n",
      "vehicle_global_position\n",
      "vehicle_command\n",
      "vehicle_attitude_setpoint\n",
      "vehicle_attitude\n",
      "vehicle_air_data\n",
      "telemetry_status\n",
      "trajectory_setpoint\n",
      "system_power\n",
      "sensor_preflight\n",
      "sensor_combined\n",
      "rate_ctrl_status\n",
      "position_setpoint_triplet\n",
      "manual_control_setpoint\n",
      "input_rc\n",
      "home_position\n",
      "estimator_status\n",
      "ekf2_innovations\n",
      "cpuload\n",
      "battery_status\n",
      "battery_status\n",
      "actuator_outputs\n",
      "actuator_controls_0\n"
     ]
    }
   ],
   "source": [
    "jsons = \"{\"\n",
    "data = data\n",
    "names = []\n",
    "for d in range(len(data)):\n",
    "    print(data[d].name)\n",
    "    names.append(data[d].name)\n",
    "    df = pd.DataFrame(data[d].data)\n",
    "    js = df.to_json(orient=\"records\")\n",
    "    if (d != len(data)-1):\n",
    "        jsons = jsons + \"\\\"\" + data[d].name + \"\\\":\" + js + \",\" \n",
    "    else:\n",
    "        jsons = jsons + \"\\\"\" + data[d].name + \"\\\":\" + js \n",
    "jsons = jsons + \"}\"\n",
    "        "
   ]
  },
  {
   "cell_type": "code",
   "execution_count": 5,
   "metadata": {},
   "outputs": [],
   "source": [
    "import json\n",
    "d = json.loads(jsons)"
   ]
  },
  {
   "cell_type": "code",
   "execution_count": 6,
   "metadata": {},
   "outputs": [],
   "source": [
    "with open('data.json', 'w') as outfile:\n",
    "    json.dump(d, outfile)"
   ]
  },
  {
   "cell_type": "code",
   "execution_count": null,
   "metadata": {},
   "outputs": [],
   "source": []
  }
 ],
 "metadata": {
  "kernelspec": {
   "display_name": "Python 3",
   "language": "python",
   "name": "python3"
  },
  "language_info": {
   "codemirror_mode": {
    "name": "ipython",
    "version": 3
   },
   "file_extension": ".py",
   "mimetype": "text/x-python",
   "name": "python",
   "nbconvert_exporter": "python",
   "pygments_lexer": "ipython3",
   "version": "3.6.7"
  }
 },
 "nbformat": 4,
 "nbformat_minor": 2
}
